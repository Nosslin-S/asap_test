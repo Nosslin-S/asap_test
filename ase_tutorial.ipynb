{
 "cells": [
  {
   "cell_type": "code",
   "execution_count": 4,
   "metadata": {},
   "outputs": [
    {
     "name": "stdout",
     "output_type": "stream",
     "text": [
      "Energy per atom: Epot = -0.001eV  Ekin = 0.038eV (T=296K)  Etot = 0.038eV\n",
      "Energy per atom: Epot = 0.029eV  Ekin = 0.009eV (T= 68K)  Etot = 0.038eV\n",
      "Energy per atom: Epot = 0.019eV  Ekin = 0.019eV (T=144K)  Etot = 0.038eV\n",
      "Energy per atom: Epot = 0.017eV  Ekin = 0.020eV (T=158K)  Etot = 0.038eV\n",
      "Energy per atom: Epot = 0.017eV  Ekin = 0.021eV (T=160K)  Etot = 0.038eV\n",
      "Energy per atom: Epot = 0.020eV  Ekin = 0.017eV (T=135K)  Etot = 0.038eV\n",
      "Energy per atom: Epot = 0.019eV  Ekin = 0.019eV (T=146K)  Etot = 0.038eV\n",
      "Energy per atom: Epot = 0.018eV  Ekin = 0.020eV (T=152K)  Etot = 0.038eV\n",
      "Energy per atom: Epot = 0.018eV  Ekin = 0.020eV (T=154K)  Etot = 0.038eV\n",
      "Energy per atom: Epot = 0.019eV  Ekin = 0.019eV (T=143K)  Etot = 0.038eV\n",
      "Energy per atom: Epot = 0.019eV  Ekin = 0.019eV (T=147K)  Etot = 0.038eV\n",
      "Energy per atom: Epot = 0.018eV  Ekin = 0.019eV (T=151K)  Etot = 0.038eV\n",
      "Energy per atom: Epot = 0.019eV  Ekin = 0.019eV (T=148K)  Etot = 0.038eV\n",
      "Energy per atom: Epot = 0.019eV  Ekin = 0.019eV (T=146K)  Etot = 0.038eV\n",
      "Energy per atom: Epot = 0.019eV  Ekin = 0.019eV (T=149K)  Etot = 0.038eV\n",
      "Energy per atom: Epot = 0.019eV  Ekin = 0.019eV (T=149K)  Etot = 0.038eV\n",
      "Energy per atom: Epot = 0.018eV  Ekin = 0.020eV (T=151K)  Etot = 0.038eV\n",
      "Energy per atom: Epot = 0.019eV  Ekin = 0.019eV (T=144K)  Etot = 0.038eV\n",
      "Energy per atom: Epot = 0.018eV  Ekin = 0.019eV (T=150K)  Etot = 0.038eV\n",
      "Energy per atom: Epot = 0.018eV  Ekin = 0.020eV (T=152K)  Etot = 0.038eV\n",
      "Energy per atom: Epot = 0.020eV  Ekin = 0.018eV (T=141K)  Etot = 0.038eV\n"
     ]
    }
   ],
   "source": [
    "\n",
    "from ase.lattice.cubic import FaceCenteredCubic\n",
    "from ase.md.velocitydistribution import MaxwellBoltzmannDistribution\n",
    "from ase.md.verlet import VelocityVerlet\n",
    "from ase import units\n",
    "# Use Asap for a huge performance increase if it is installed\n",
    "use_asap = True\n",
    "\n",
    "if use_asap:\n",
    "    from asap3 import EMT\n",
    "    size = 10\n",
    "else:\n",
    "    from ase.calculators.emt import EMT\n",
    "    size = 3\n",
    "\n",
    "# Set up a crystal\n",
    "atoms = FaceCenteredCubic(directions=[[1, 0, 0], [0, 1, 0], [0, 0, 1]],\n",
    "                          symbol='Cu',\n",
    "                          size=(size, size, size),\n",
    "                          pbc=True)\n",
    "\n",
    "# Describe the interatomic interactions with the Effective Medium Theory\n",
    "atoms.calc = EMT()\n",
    "\n",
    "# Set the momenta corresponding to T=300K\n",
    "MaxwellBoltzmannDistribution(atoms, temperature_K=300)\n",
    "\n",
    "# We want to run MD with constant energy using the VelocityVerlet algorithm.\n",
    "dyn = VelocityVerlet(atoms, 5 * units.fs)  # 5 fs time step.\n",
    "\n",
    "\n",
    "def printenergy(a):\n",
    "    \"\"\"Function to print the potential, kinetic and total energy\"\"\"\n",
    "    epot = a.get_potential_energy() / len(a)\n",
    "    ekin = a.get_kinetic_energy() / len(a)\n",
    "    print('Energy per atom: Epot = %.3feV  Ekin = %.3feV (T=%3.0fK)  '\n",
    "          'Etot = %.3feV' % (epot, ekin, ekin / (1.5 * units.kB), epot + ekin))\n",
    "\n",
    "\n",
    "# Now run the dynamics\n",
    "printenergy(atoms)\n",
    "for i in range(20):\n",
    "    dyn.run(10)\n",
    "    printenergy(atoms)"
   ]
  },
  {
   "cell_type": "code",
   "execution_count": 2,
   "metadata": {},
   "outputs": [
    {
     "name": "stdout",
     "output_type": "stream",
     "text": [
      "Energy per atom: Epot = -0.006eV  Ekin = 0.040eV (T=309K)  Etot = 0.034eV\n",
      "Energy per atom: Epot = 0.012eV  Ekin = 0.022eV (T=170K)  Etot = 0.034eV\n"
     ]
    },
    {
     "data": {
      "text/plain": [
       "True"
      ]
     },
     "execution_count": 2,
     "metadata": {},
     "output_type": "execute_result"
    }
   ],
   "source": [
    "\"\"\"Demonstrates molecular dynamics with constant energy.\"\"\"\n",
    "\n",
    "from ase.lattice.cubic import FaceCenteredCubic\n",
    "from ase.md.velocitydistribution import MaxwellBoltzmannDistribution\n",
    "from ase.md.verlet import VelocityVerlet\n",
    "from ase import units\n",
    "\n",
    "# Use Asap for a huge performance increase if it is installed\n",
    "use_asap = False\n",
    "\n",
    "if use_asap:\n",
    "    from asap3 import EMT\n",
    "    size = 10\n",
    "else:\n",
    "    from ase.calculators.emt import EMT\n",
    "    size = 3\n",
    "\n",
    "# Set up a crystal\n",
    "atoms = FaceCenteredCubic(directions=[[1, 0, 0], [0, 1, 0], [0, 0, 1]],\n",
    "                          symbol=\"Cu\",\n",
    "                          size=(size, size, size),\n",
    "                          pbc=True)\n",
    "\n",
    "# Describe the interatomic interactions with the Effective Medium Theory\n",
    "atoms.calc = EMT()\n",
    "\n",
    "# Set the momenta corresponding to T=300K\n",
    "MaxwellBoltzmannDistribution(atoms, temperature_K=300)\n",
    "\n",
    "# We want to run MD with constant energy using the VelocityVerlet algorithm.\n",
    "dyn = VelocityVerlet(atoms, 5 * units.fs)  # 5 fs time step.\n",
    "\n",
    "\n",
    "def printenergy(a=atoms):  # store a reference to atoms in the definition.\n",
    "    \"\"\"Function to print the potential, kinetic and total energy.\"\"\"\n",
    "    epot = a.get_potential_energy() / len(a)\n",
    "    ekin = a.get_kinetic_energy() / len(a)\n",
    "    print('Energy per atom: Epot = %.3feV  Ekin = %.3feV (T=%3.0fK)  '\n",
    "          'Etot = %.3feV' % (epot, ekin, ekin / (1.5 * units.kB), epot + ekin))\n",
    "\n",
    "\n",
    "# Now run the dynamics\n",
    "dyn.attach(printenergy, interval=-190)\n",
    "printenergy()\n",
    "dyn.run(200)"
   ]
  },
  {
   "cell_type": "code",
   "execution_count": 4,
   "metadata": {},
   "outputs": [
    {
     "name": "stderr",
     "output_type": "stream",
     "text": [
      "/home/snilsson/.local/lib/python3.8/site-packages/ase/md/md.py:48: FutureWarning: Specify the temperature in K using the 'temperature_K' argument\n",
      "  warnings.warn(FutureWarning(w))\n"
     ]
    },
    {
     "name": "stdout",
     "output_type": "stream",
     "text": [
      "Energy per atom: Epot = 0.269eV  Ekin = 0.000eV (T=  0K)  Etot = 0.269eV\n",
      "Energy per atom: Epot = 0.269eV  Ekin = 0.000eV (T=  0K)  Etot = 0.269eV\n",
      "Energy per atom: Epot = 0.274eV  Ekin = 0.012eV (T= 95K)  Etot = 0.287eV\n",
      "Energy per atom: Epot = 0.282eV  Ekin = 0.023eV (T=175K)  Etot = 0.305eV\n",
      "Energy per atom: Epot = 0.293eV  Ekin = 0.029eV (T=223K)  Etot = 0.322eV\n",
      "Energy per atom: Epot = 0.300eV  Ekin = 0.036eV (T=278K)  Etot = 0.336eV\n",
      "Energy per atom: Epot = 0.309eV  Ekin = 0.043eV (T=330K)  Etot = 0.351eV\n",
      "Energy per atom: Epot = 0.316eV  Ekin = 0.050eV (T=383K)  Etot = 0.366eV\n",
      "Energy per atom: Epot = 0.320eV  Ekin = 0.058eV (T=451K)  Etot = 0.378eV\n",
      "Energy per atom: Epot = 0.333eV  Ekin = 0.059eV (T=453K)  Etot = 0.392eV\n",
      "Energy per atom: Epot = 0.336eV  Ekin = 0.068eV (T=525K)  Etot = 0.404eV\n",
      "Energy per atom: Epot = 0.348eV  Ekin = 0.070eV (T=542K)  Etot = 0.418eV\n",
      "Energy per atom: Epot = 0.356eV  Ekin = 0.075eV (T=583K)  Etot = 0.431eV\n",
      "Energy per atom: Epot = 0.356eV  Ekin = 0.085eV (T=655K)  Etot = 0.440eV\n",
      "Energy per atom: Epot = 0.362eV  Ekin = 0.089eV (T=690K)  Etot = 0.451eV\n",
      "Energy per atom: Epot = 0.373eV  Ekin = 0.090eV (T=693K)  Etot = 0.463eV\n",
      "Energy per atom: Epot = 0.380eV  Ekin = 0.097eV (T=750K)  Etot = 0.477eV\n",
      "Energy per atom: Epot = 0.386eV  Ekin = 0.103eV (T=794K)  Etot = 0.488eV\n",
      "Energy per atom: Epot = 0.392eV  Ekin = 0.108eV (T=834K)  Etot = 0.500eV\n",
      "Energy per atom: Epot = 0.401eV  Ekin = 0.110eV (T=855K)  Etot = 0.511eV\n",
      "Energy per atom: Epot = 0.404eV  Ekin = 0.118eV (T=910K)  Etot = 0.522eV\n",
      "Energy per atom: Epot = 0.412eV  Ekin = 0.118eV (T=912K)  Etot = 0.529eV\n",
      "Energy per atom: Epot = 0.415eV  Ekin = 0.123eV (T=953K)  Etot = 0.538eV\n",
      "Energy per atom: Epot = 0.425eV  Ekin = 0.121eV (T=934K)  Etot = 0.545eV\n",
      "Energy per atom: Epot = 0.431eV  Ekin = 0.124eV (T=962K)  Etot = 0.555eV\n",
      "Energy per atom: Epot = 0.430eV  Ekin = 0.131eV (T=1016K)  Etot = 0.562eV\n",
      "Energy per atom: Epot = 0.442eV  Ekin = 0.129eV (T=995K)  Etot = 0.570eV\n",
      "Energy per atom: Epot = 0.444eV  Ekin = 0.136eV (T=1050K)  Etot = 0.580eV\n",
      "Energy per atom: Epot = 0.447eV  Ekin = 0.136eV (T=1050K)  Etot = 0.583eV\n",
      "Energy per atom: Epot = 0.458eV  Ekin = 0.132eV (T=1021K)  Etot = 0.590eV\n",
      "Energy per atom: Epot = 0.459eV  Ekin = 0.134eV (T=1033K)  Etot = 0.592eV\n",
      "Energy per atom: Epot = 0.470eV  Ekin = 0.129eV (T=1000K)  Etot = 0.599eV\n",
      "Energy per atom: Epot = 0.463eV  Ekin = 0.140eV (T=1080K)  Etot = 0.603eV\n",
      "Energy per atom: Epot = 0.465eV  Ekin = 0.142eV (T=1101K)  Etot = 0.607eV\n",
      "Energy per atom: Epot = 0.478eV  Ekin = 0.133eV (T=1029K)  Etot = 0.611eV\n",
      "Energy per atom: Epot = 0.478eV  Ekin = 0.140eV (T=1086K)  Etot = 0.619eV\n",
      "Energy per atom: Epot = 0.483eV  Ekin = 0.138eV (T=1071K)  Etot = 0.621eV\n",
      "Energy per atom: Epot = 0.481eV  Ekin = 0.145eV (T=1119K)  Etot = 0.625eV\n",
      "Energy per atom: Epot = 0.496eV  Ekin = 0.136eV (T=1049K)  Etot = 0.632eV\n",
      "Energy per atom: Epot = 0.494eV  Ekin = 0.143eV (T=1106K)  Etot = 0.637eV\n",
      "Energy per atom: Epot = 0.502eV  Ekin = 0.143eV (T=1109K)  Etot = 0.645eV\n",
      "Energy per atom: Epot = 0.501eV  Ekin = 0.151eV (T=1165K)  Etot = 0.651eV\n",
      "Energy per atom: Epot = 0.506eV  Ekin = 0.153eV (T=1184K)  Etot = 0.659eV\n",
      "Energy per atom: Epot = 0.509eV  Ekin = 0.154eV (T=1190K)  Etot = 0.663eV\n",
      "Energy per atom: Epot = 0.514eV  Ekin = 0.154eV (T=1195K)  Etot = 0.668eV\n",
      "Energy per atom: Epot = 0.526eV  Ekin = 0.143eV (T=1107K)  Etot = 0.669eV\n",
      "Energy per atom: Epot = 0.526eV  Ekin = 0.147eV (T=1138K)  Etot = 0.673eV\n",
      "Energy per atom: Epot = 0.517eV  Ekin = 0.159eV (T=1230K)  Etot = 0.676eV\n",
      "Energy per atom: Epot = 0.522eV  Ekin = 0.155eV (T=1201K)  Etot = 0.678eV\n",
      "Energy per atom: Epot = 0.523eV  Ekin = 0.158eV (T=1224K)  Etot = 0.681eV\n",
      "Energy per atom: Epot = 0.532eV  Ekin = 0.154eV (T=1193K)  Etot = 0.686eV\n",
      "Energy per atom: Epot = 0.535eV  Ekin = 0.155eV (T=1200K)  Etot = 0.690eV\n",
      "Energy per atom: Epot = 0.535eV  Ekin = 0.158eV (T=1219K)  Etot = 0.693eV\n",
      "Energy per atom: Epot = 0.533eV  Ekin = 0.164eV (T=1265K)  Etot = 0.696eV\n",
      "Energy per atom: Epot = 0.539eV  Ekin = 0.160eV (T=1238K)  Etot = 0.699eV\n",
      "Energy per atom: Epot = 0.541eV  Ekin = 0.162eV (T=1252K)  Etot = 0.703eV\n",
      "Energy per atom: Epot = 0.541eV  Ekin = 0.168eV (T=1299K)  Etot = 0.709eV\n",
      "Energy per atom: Epot = 0.552eV  Ekin = 0.158eV (T=1226K)  Etot = 0.711eV\n",
      "Energy per atom: Epot = 0.546eV  Ekin = 0.171eV (T=1325K)  Etot = 0.717eV\n",
      "Energy per atom: Epot = 0.541eV  Ekin = 0.178eV (T=1379K)  Etot = 0.719eV\n",
      "Energy per atom: Epot = 0.556eV  Ekin = 0.164eV (T=1270K)  Etot = 0.721eV\n",
      "Energy per atom: Epot = 0.548eV  Ekin = 0.173eV (T=1336K)  Etot = 0.721eV\n",
      "Energy per atom: Epot = 0.553eV  Ekin = 0.169eV (T=1309K)  Etot = 0.722eV\n",
      "Energy per atom: Epot = 0.555eV  Ekin = 0.174eV (T=1347K)  Etot = 0.729eV\n",
      "Energy per atom: Epot = 0.548eV  Ekin = 0.181eV (T=1397K)  Etot = 0.729eV\n",
      "Energy per atom: Epot = 0.563eV  Ekin = 0.165eV (T=1280K)  Etot = 0.729eV\n",
      "Energy per atom: Epot = 0.560eV  Ekin = 0.166eV (T=1288K)  Etot = 0.726eV\n",
      "Energy per atom: Epot = 0.560eV  Ekin = 0.161eV (T=1243K)  Etot = 0.721eV\n",
      "Energy per atom: Epot = 0.544eV  Ekin = 0.175eV (T=1355K)  Etot = 0.719eV\n",
      "Energy per atom: Epot = 0.555eV  Ekin = 0.167eV (T=1288K)  Etot = 0.721eV\n",
      "Energy per atom: Epot = 0.541eV  Ekin = 0.179eV (T=1387K)  Etot = 0.720eV\n",
      "Energy per atom: Epot = 0.559eV  Ekin = 0.162eV (T=1253K)  Etot = 0.721eV\n",
      "Energy per atom: Epot = 0.548eV  Ekin = 0.177eV (T=1373K)  Etot = 0.726eV\n",
      "Energy per atom: Epot = 0.551eV  Ekin = 0.179eV (T=1384K)  Etot = 0.729eV\n",
      "Energy per atom: Epot = 0.550eV  Ekin = 0.181eV (T=1398K)  Etot = 0.730eV\n",
      "Energy per atom: Epot = 0.553eV  Ekin = 0.183eV (T=1412K)  Etot = 0.736eV\n",
      "Energy per atom: Epot = 0.562eV  Ekin = 0.178eV (T=1378K)  Etot = 0.740eV\n",
      "Energy per atom: Epot = 0.561eV  Ekin = 0.179eV (T=1388K)  Etot = 0.740eV\n",
      "Energy per atom: Epot = 0.567eV  Ekin = 0.174eV (T=1347K)  Etot = 0.741eV\n",
      "Energy per atom: Epot = 0.569eV  Ekin = 0.175eV (T=1355K)  Etot = 0.744eV\n",
      "Energy per atom: Epot = 0.570eV  Ekin = 0.177eV (T=1370K)  Etot = 0.747eV\n",
      "Energy per atom: Epot = 0.573eV  Ekin = 0.182eV (T=1409K)  Etot = 0.755eV\n",
      "Energy per atom: Epot = 0.582eV  Ekin = 0.181eV (T=1401K)  Etot = 0.763eV\n",
      "Energy per atom: Epot = 0.582eV  Ekin = 0.182eV (T=1406K)  Etot = 0.764eV\n",
      "Energy per atom: Epot = 0.584eV  Ekin = 0.180eV (T=1395K)  Etot = 0.764eV\n",
      "Energy per atom: Epot = 0.576eV  Ekin = 0.191eV (T=1480K)  Etot = 0.768eV\n",
      "Energy per atom: Epot = 0.592eV  Ekin = 0.181eV (T=1399K)  Etot = 0.772eV\n",
      "Energy per atom: Epot = 0.586eV  Ekin = 0.187eV (T=1448K)  Etot = 0.773eV\n",
      "Energy per atom: Epot = 0.584eV  Ekin = 0.188eV (T=1455K)  Etot = 0.772eV\n",
      "Energy per atom: Epot = 0.581eV  Ekin = 0.190eV (T=1468K)  Etot = 0.771eV\n",
      "Energy per atom: Epot = 0.593eV  Ekin = 0.178eV (T=1374K)  Etot = 0.771eV\n",
      "Energy per atom: Epot = 0.583eV  Ekin = 0.191eV (T=1478K)  Etot = 0.774eV\n",
      "Energy per atom: Epot = 0.569eV  Ekin = 0.209eV (T=1615K)  Etot = 0.777eV\n",
      "Energy per atom: Epot = 0.588eV  Ekin = 0.191eV (T=1480K)  Etot = 0.779eV\n",
      "Energy per atom: Epot = 0.591eV  Ekin = 0.194eV (T=1498K)  Etot = 0.785eV\n",
      "Energy per atom: Epot = 0.590eV  Ekin = 0.192eV (T=1487K)  Etot = 0.783eV\n",
      "Energy per atom: Epot = 0.590eV  Ekin = 0.194eV (T=1503K)  Etot = 0.784eV\n",
      "Energy per atom: Epot = 0.605eV  Ekin = 0.179eV (T=1383K)  Etot = 0.784eV\n",
      "Energy per atom: Epot = 0.589eV  Ekin = 0.193eV (T=1493K)  Etot = 0.781eV\n",
      "Energy per atom: Epot = 0.587eV  Ekin = 0.192eV (T=1489K)  Etot = 0.780eV\n",
      "Energy per atom: Epot = 0.594eV  Ekin = 0.186eV (T=1442K)  Etot = 0.780eV\n",
      "Energy per atom: Epot = 0.592eV  Ekin = 0.191eV (T=1478K)  Etot = 0.783eV\n"
     ]
    },
    {
     "data": {
      "text/plain": [
       "True"
      ]
     },
     "execution_count": 4,
     "metadata": {},
     "output_type": "execute_result"
    }
   ],
   "source": [
    "\"\"\"Demonstrates molecular dynamics with constant temperature.\"\"\"\n",
    "from ase.lattice.cubic import FaceCenteredCubic\n",
    "from ase.md.langevin import Langevin\n",
    "from ase.io.trajectory import Trajectory\n",
    "from ase import units\n",
    "\n",
    "from asap3 import EMT  # Way too slow with ase.EMT !\n",
    "size = 5\n",
    "\n",
    "T = 1500  # Kelvin\n",
    "\n",
    "# Set up a crystal\n",
    "atoms = FaceCenteredCubic(directions=[[1, 0, 0], [0, 1, 0], [0, 0, 1]],\n",
    "                          symbol=\"Cu\",\n",
    "                          size=(size, size, size),\n",
    "                          pbc=False)\n",
    "\n",
    "# Describe the interatomic interactions with the Effective Medium Theory\n",
    "atoms.calc = EMT()\n",
    "\n",
    "# We want to run MD with constant energy using the Langevin algorithm\n",
    "# with a time step of 5 fs, the temperature T and the friction\n",
    "# coefficient to 0.02 atomic units.\n",
    "dyn = Langevin(atoms, 5 * units.fs, T * units.kB, 0.002)\n",
    "\n",
    "\n",
    "def printenergy(a=atoms):  # store a reference to atoms in the definition.\n",
    "    \"\"\"Function to print the potential, kinetic and total energy.\"\"\"\n",
    "    epot = a.get_potential_energy() / len(a)\n",
    "    ekin = a.get_kinetic_energy() / len(a)\n",
    "    print('Energy per atom: Epot = %.3feV  Ekin = %.3feV (T=%3.0fK)  '\n",
    "          'Etot = %.3feV' % (epot, ekin, ekin / (1.5 * units.kB), epot + ekin))\n",
    "\n",
    "\n",
    "dyn.attach(printenergy, interval=50)\n",
    "\n",
    "# We also want to save the positions of all atoms after every 100th time step.\n",
    "traj = Trajectory('moldyn3.traj', 'w', atoms)\n",
    "dyn.attach(traj.write, interval=50)\n",
    "\n",
    "# Now run the dynamics\n",
    "printenergy()\n",
    "dyn.run(5000)"
   ]
  },
  {
   "cell_type": "code",
   "execution_count": 11,
   "metadata": {},
   "outputs": [
    {
     "name": "stdout",
     "output_type": "stream",
     "text": [
      "49\n"
     ]
    },
    {
     "data": {
      "image/png": "[encoded data removed]",
      "text/plain": [
       "<Figure size 432x288 with 1 Axes>"
      ]
     },
     "metadata": {
      "needs_background": "light"
     },
     "output_type": "display_data"
    }
   ],
   "source": [
    "fig, ax = plt.subplots()\n",
    "line, = ax.plot(np.random.randn(100))\n",
    "\n",
    "tstart = time.time()\n",
    "num_plots = 0\n",
    "while time.time()-tstart < 1:\n",
    "    line.set_ydata(np.random.randn(100))\n",
    "    fig.canvas.draw()\n",
    "    num_plots += 1\n",
    "print(num_plots)"
   ]
  },
  {
   "cell_type": "code",
   "execution_count": 3,
   "metadata": {},
   "outputs": [
    {
     "data": {
      "text/plain": [
       "Lattice(symbols='Cu4', pbc=True, cell=[3.61, 3.61, 3.61])"
      ]
     },
     "execution_count": 3,
     "metadata": {},
     "output_type": "execute_result"
    }
   ],
   "source": [
    "FaceCenteredCubic(directions=[[1, 0, 0], [0, 1, 0], [0, 0, 1]],symbol=\"Cu\")"
   ]
  },
  {
   "cell_type": "code",
   "execution_count": 4,
   "metadata": {},
   "outputs": [
    {
     "ename": "ModuleNotFoundError",
     "evalue": "No module named 'IPython.HTML'",
     "output_type": "error",
     "traceback": [
      "\u001b[1;31m---------------------------------------------------------------------------\u001b[0m",
      "\u001b[1;31mModuleNotFoundError\u001b[0m                       Traceback (most recent call last)",
      "\u001b[1;32mc:\\Users\\snils\\Desktop\\CSE Project\\MD\\ase_tutorial.ipynb Cell 6'\u001b[0m in \u001b[0;36m<module>\u001b[1;34m\u001b[0m\n\u001b[0;32m      <a href='vscode-notebook-cell:/c%3A/Users/snils/Desktop/CSE%20Project/MD/ase_tutorial.ipynb#ch0000005?line=0'>1</a>\u001b[0m get_ipython()\u001b[39m.\u001b[39mrun_line_magic(\u001b[39m'\u001b[39m\u001b[39mmatplotlib\u001b[39m\u001b[39m'\u001b[39m, \u001b[39m'\u001b[39m\u001b[39mnotebook\u001b[39m\u001b[39m'\u001b[39m)\n\u001b[0;32m      <a href='vscode-notebook-cell:/c%3A/Users/snils/Desktop/CSE%20Project/MD/ase_tutorial.ipynb#ch0000005?line=1'>2</a>\u001b[0m \u001b[39mimport\u001b[39;00m \u001b[39mmatplotlib\u001b[39;00m\u001b[39m.\u001b[39;00m\u001b[39mpyplot\u001b[39;00m \u001b[39mas\u001b[39;00m \u001b[39mplt\u001b[39;00m\n\u001b[1;32m----> <a href='vscode-notebook-cell:/c%3A/Users/snils/Desktop/CSE%20Project/MD/ase_tutorial.ipynb#ch0000005?line=2'>3</a>\u001b[0m \u001b[39mfrom\u001b[39;00m \u001b[39mIPython\u001b[39;00m\u001b[39m.\u001b[39;00m\u001b[39mHTML\u001b[39;00m\u001b[39m.\u001b[39;00m\u001b[39mwidgets\u001b[39;00m \u001b[39mimport\u001b[39;00m interactive\n\u001b[0;32m      <a href='vscode-notebook-cell:/c%3A/Users/snils/Desktop/CSE%20Project/MD/ase_tutorial.ipynb#ch0000005?line=3'>4</a>\u001b[0m \u001b[39mfrom\u001b[39;00m \u001b[39mIPython\u001b[39;00m\u001b[39m.\u001b[39;00m\u001b[39mdisplay\u001b[39;00m \u001b[39mimport\u001b[39;00m display\n\u001b[0;32m      <a href='vscode-notebook-cell:/c%3A/Users/snils/Desktop/CSE%20Project/MD/ase_tutorial.ipynb#ch0000005?line=4'>5</a>\u001b[0m \u001b[39mimport\u001b[39;00m \u001b[39mnumpy\u001b[39;00m \u001b[39mas\u001b[39;00m \u001b[39mnp\u001b[39;00m\n",
      "\u001b[1;31mModuleNotFoundError\u001b[0m: No module named 'IPython.HTML'"
     ]
    }
   ],
   "source": [
    "%matplotlib notebook\n",
    "import matplotlib.pyplot as plt\n",
    "from IPython.HTML.widgets import interactive\n",
    "from IPython.display import display\n",
    "import numpy as np\n",
    "\n",
    "fig, ax = plt.subplots()\n",
    "ax.set_xlim(0, .25)\n",
    "ax.set_ylim(-2.5, 2.5)\n",
    "ax.set_title('beat frequencies')\n",
    "lnA, = ax.plot([], [], color='r', label='A')\n",
    "lnB, = ax.plot([], [], color='purple', label='B')\n",
    "lnsum, = ax.plot([], [], color='k', label='signal')\n",
    "ax.legend()\n",
    "max_time = 3\n",
    "rate = 8000\n",
    "times = np.linspace(0,max_time,rate*max_time)\n",
    "\n",
    "def beat_freq(f1=220.0, f2=224.0):\n",
    "\n",
    "    A = np.sin(2*np.pi*f1*times)\n",
    "    B = np.sin(2*np.pi*f2*times)\n",
    "    sig = A + B\n",
    "\n",
    "    lnA.set_data(times, A)\n",
    "    lnB.set_data(times, B)\n",
    "    lnsum.set_data(times, sig)\n",
    "\n",
    "    plt.draw()\n",
    "\n",
    "beat_freq(0, 0)"
   ]
  }
 ],
 "metadata": {
  "interpreter": {
   "hash": "97ae724bfa85b9b34df7982b8bb8c7216f435b92902d749e4263f71162bea840"
  },
  "kernelspec": {
   "display_name": "Python 3.8.10 ('base')",
   "language": "python",
   "name": "python3"
  },
  "language_info": {
   "codemirror_mode": {
    "name": "ipython",
    "version": 3
   },
   "file_extension": ".py",
   "mimetype": "text/x-python",
   "name": "python",
   "nbconvert_exporter": "python",
   "pygments_lexer": "ipython3",
   "version": "3.8.10"
  },
  "orig_nbformat": 4
 },
 "nbformat": 4,
 "nbformat_minor": 2
}
